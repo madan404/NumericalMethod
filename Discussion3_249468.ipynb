{
  "nbformat": 4,
  "nbformat_minor": 0,
  "metadata": {
    "colab": {
      "name": "Discussion3_249468.ipynb",
      "provenance": [],
      "collapsed_sections": [],
      "authorship_tag": "ABX9TyOgnC0Ttdh6rHaR7nq1reK3",
      "include_colab_link": true
    },
    "kernelspec": {
      "name": "python3",
      "display_name": "Python 3"
    }
  },
  "cells": [
    {
      "cell_type": "markdown",
      "metadata": {
        "id": "view-in-github",
        "colab_type": "text"
      },
      "source": [
        "<a href=\"https://colab.research.google.com/github/madan404/NumericalMethod/blob/main/Discussion3_249468.ipynb\" target=\"_parent\"><img src=\"https://colab.research.google.com/assets/colab-badge.svg\" alt=\"Open In Colab\"/></a>"
      ]
    },
    {
      "cell_type": "markdown",
      "metadata": {
        "id": "mS-J-CYIa71C"
      },
      "source": [
        "**Finding Root**\r\n",
        "\r\n",
        "**Madan Poudel, 249468**"
      ]
    },
    {
      "cell_type": "markdown",
      "metadata": {
        "id": "-HYzrws_V9iV"
      },
      "source": [
        "The polynomial I am using as an example is x^3+4x^2-2x+10. I am using Newton-Raphson method to get the cubic root."
      ]
    },
    {
      "cell_type": "code",
      "metadata": {
        "colab": {
          "base_uri": "https://localhost:8080/"
        },
        "id": "44Ap5eKpLjze",
        "outputId": "2061dd80-750d-4f66-aef3-b484595e529a"
      },
      "source": [
        "import numpy\r\n",
        "#importing from library to do derivative\r\n",
        "from scipy.misc import derivative\r\n",
        "\r\n",
        "#the starting point and the range\r\n",
        "start = 1\r\n",
        "x = numpy.linspace(-1,1,300)\r\n",
        "\r\n",
        "#the coefficient of the polynomial\r\n",
        "a = 1\r\n",
        "b = 4\r\n",
        "c = -2\r\n",
        "d = 10\r\n",
        "\r\n",
        "#Sub-program defining cubic function \r\n",
        "def root_func(x):\r\n",
        "  return a*x**3 + b*x**2 + c*x + d\r\n",
        "\r\n",
        "\r\n",
        "#Sub-program to take the derivative\r\n",
        "def deriv_func(root_func, x, start):\r\n",
        "  deriv = derivative(root_func, start, dx=1)\r\n",
        "  return start - root_func(start) / deriv\r\n",
        "  \r\n",
        "\r\n",
        "#Loop to print up to 20 the root values\r\n",
        "for i in range(20):\r\n",
        "  print(start)\r\n",
        "  start = deriv_func(root_func, x, start)"
      ],
      "execution_count": null,
      "outputs": [
        {
          "output_type": "stream",
          "text": [
            "1\n",
            "-0.30000000000000004\n",
            "3.1929712460063886\n",
            "1.7972100869792582\n",
            "0.7077864062376185\n",
            "-1.0671584309286108\n",
            "1.460999900968477\n",
            "0.3648672999064475\n",
            "-3.8844770659986843\n",
            "-5.363599788837697\n",
            "-4.9272095974260735\n",
            "-4.8452767161898915\n",
            "-4.840263008703973\n",
            "-4.840090298615756\n",
            "-4.840084636597874\n",
            "-4.840084451302779\n",
            "-4.840084445239164\n",
            "-4.840084445040738\n",
            "-4.840084445034244\n",
            "-4.840084445034032\n"
          ],
          "name": "stdout"
        }
      ]
    },
    {
      "cell_type": "markdown",
      "metadata": {
        "id": "rHK7qP5sZnQj"
      },
      "source": [
        "The graph shows the cubic roots of the polynomial. It was done under the Newton-Raphson method to find the cubic root. "
      ]
    },
    {
      "cell_type": "code",
      "metadata": {
        "colab": {
          "base_uri": "https://localhost:8080/",
          "height": 295
        },
        "id": "NmR9w1dEW7cf",
        "outputId": "102bba7d-9e1d-4046-8d01-13cd9aad4303"
      },
      "source": [
        "import numpy\r\n",
        "import matplotlib.pyplot\r\n",
        "\r\n",
        "\r\n",
        "x = numpy.linspace(-1, 1, 300, endpoint= True)\r\n",
        "\r\n",
        "y = (a * (x * x * x)) + (b * 0) + (c * x)+d\r\n",
        "\r\n",
        "matplotlib.pyplot.plot(x, y,'-g',label=r'$y = x^3 +4x^2 -2x + 10$')\r\n",
        "\r\n",
        "#Label of the Graph\r\n",
        "matplotlib.pyplot.xlabel('X-axis')\r\n",
        "matplotlib.pyplot.ylabel('Y-axis')\r\n",
        "matplotlib.pyplot.title('Cubic Function')\r\n",
        "matplotlib.pyplot.legend(loc='upper center')\r\n",
        "matplotlib.pyplot.axhline(0, color = 'blue', lw=0.5)\r\n",
        "matplotlib.pyplot.grid()\r\n",
        "matplotlib.pyplot.show()"
      ],
      "execution_count": null,
      "outputs": [
        {
          "output_type": "display_data",
          "data": {
            "image/png": "[encoded data removed]",
            "text/plain": [
              "<Figure size 432x288 with 1 Axes>"
            ]
          },
          "metadata": {
            "tags": [],
            "needs_background": "light"
          }
        }
      ]
    }
  ]
}